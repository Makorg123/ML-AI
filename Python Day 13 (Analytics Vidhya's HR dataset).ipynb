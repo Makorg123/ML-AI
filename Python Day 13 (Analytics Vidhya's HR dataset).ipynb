{
 "cells": [
  {
   "cell_type": "code",
   "execution_count": 3,
   "id": "92f7b04c",
   "metadata": {},
   "outputs": [],
   "source": [
    "import pandas as pd\n",
    "import numpy as np\n",
    "import seaborn as sns\n",
    "import matplotlib.pyplot as plt"
   ]
  },
  {
   "cell_type": "code",
   "execution_count": 4,
   "id": "30f93b00",
   "metadata": {},
   "outputs": [],
   "source": [
    "dftrain = pd.read_csv('train_1.csv')"
   ]
  },
  {
   "cell_type": "code",
   "execution_count": 5,
   "id": "913e6820",
   "metadata": {},
   "outputs": [],
   "source": [
    "dftest  = pd.read_csv('test_1.csv')"
   ]
  },
  {
   "cell_type": "code",
   "execution_count": 6,
   "id": "3ef05b37",
   "metadata": {},
   "outputs": [
    {
     "name": "stdout",
     "output_type": "stream",
     "text": [
      "<class 'pandas.core.frame.DataFrame'>\n",
      "RangeIndex: 54808 entries, 0 to 54807\n",
      "Data columns (total 14 columns):\n",
      " #   Column                Non-Null Count  Dtype  \n",
      "---  ------                --------------  -----  \n",
      " 0   employee_id           54808 non-null  int64  \n",
      " 1   department            54808 non-null  object \n",
      " 2   region                54808 non-null  object \n",
      " 3   education             52399 non-null  object \n",
      " 4   gender                54808 non-null  object \n",
      " 5   recruitment_channel   54808 non-null  object \n",
      " 6   no_of_trainings       54808 non-null  int64  \n",
      " 7   age                   54808 non-null  int64  \n",
      " 8   previous_year_rating  50684 non-null  float64\n",
      " 9   length_of_service     54808 non-null  int64  \n",
      " 10  KPIs_met >80%         54808 non-null  int64  \n",
      " 11  awards_won?           54808 non-null  int64  \n",
      " 12  avg_training_score    54808 non-null  int64  \n",
      " 13  is_promoted           54808 non-null  int64  \n",
      "dtypes: float64(1), int64(8), object(5)\n",
      "memory usage: 5.9+ MB\n"
     ]
    }
   ],
   "source": [
    "dftrain.info()"
   ]
  },
  {
   "cell_type": "code",
   "execution_count": 7,
   "id": "5f716375",
   "metadata": {},
   "outputs": [
    {
     "name": "stdout",
     "output_type": "stream",
     "text": [
      "<class 'pandas.core.frame.DataFrame'>\n",
      "RangeIndex: 23490 entries, 0 to 23489\n",
      "Data columns (total 13 columns):\n",
      " #   Column                Non-Null Count  Dtype  \n",
      "---  ------                --------------  -----  \n",
      " 0   employee_id           23490 non-null  int64  \n",
      " 1   department            23490 non-null  object \n",
      " 2   region                23490 non-null  object \n",
      " 3   education             22456 non-null  object \n",
      " 4   gender                23490 non-null  object \n",
      " 5   recruitment_channel   23490 non-null  object \n",
      " 6   no_of_trainings       23490 non-null  int64  \n",
      " 7   age                   23490 non-null  int64  \n",
      " 8   previous_year_rating  21678 non-null  float64\n",
      " 9   length_of_service     23490 non-null  int64  \n",
      " 10  KPIs_met >80%         23490 non-null  int64  \n",
      " 11  awards_won?           23490 non-null  int64  \n",
      " 12  avg_training_score    23490 non-null  int64  \n",
      "dtypes: float64(1), int64(7), object(5)\n",
      "memory usage: 2.3+ MB\n"
     ]
    }
   ],
   "source": [
    "dftest.info()"
   ]
  },
  {
   "cell_type": "code",
   "execution_count": 8,
   "id": "ca328041",
   "metadata": {},
   "outputs": [
    {
     "data": {
      "text/plain": [
       "employee_id                0\n",
       "department                 0\n",
       "region                     0\n",
       "education               2409\n",
       "gender                     0\n",
       "recruitment_channel        0\n",
       "no_of_trainings            0\n",
       "age                        0\n",
       "previous_year_rating    4124\n",
       "length_of_service          0\n",
       "KPIs_met >80%              0\n",
       "awards_won?                0\n",
       "avg_training_score         0\n",
       "is_promoted                0\n",
       "dtype: int64"
      ]
     },
     "execution_count": 8,
     "metadata": {},
     "output_type": "execute_result"
    }
   ],
   "source": [
    "dftrain.isnull().sum()"
   ]
  },
  {
   "cell_type": "code",
   "execution_count": 9,
   "id": "7503a9c5",
   "metadata": {},
   "outputs": [
    {
     "data": {
      "text/plain": [
       "Bachelor's          36669\n",
       "Master's & above    14925\n",
       "NaN                  2409\n",
       "Below Secondary       805\n",
       "Name: education, dtype: int64"
      ]
     },
     "execution_count": 9,
     "metadata": {},
     "output_type": "execute_result"
    }
   ],
   "source": [
    "dftrain.education.value_counts(dropna=False)"
   ]
  },
  {
   "cell_type": "code",
   "execution_count": 10,
   "id": "65efe0f1",
   "metadata": {},
   "outputs": [
    {
     "data": {
      "text/plain": [
       "3.0    18618\n",
       "5.0    11741\n",
       "4.0     9877\n",
       "1.0     6223\n",
       "2.0     4225\n",
       "NaN     4124\n",
       "Name: previous_year_rating, dtype: int64"
      ]
     },
     "execution_count": 10,
     "metadata": {},
     "output_type": "execute_result"
    }
   ],
   "source": [
    "dftrain.previous_year_rating.value_counts(dropna=False)"
   ]
  },
  {
   "cell_type": "code",
   "execution_count": 11,
   "id": "a7877281",
   "metadata": {},
   "outputs": [
    {
     "data": {
      "text/plain": [
       "employee_id                0\n",
       "department                 0\n",
       "region                     0\n",
       "education               2409\n",
       "gender                     0\n",
       "recruitment_channel        0\n",
       "no_of_trainings            0\n",
       "age                        0\n",
       "previous_year_rating    4124\n",
       "length_of_service          0\n",
       "KPIs_met >80%              0\n",
       "awards_won?                0\n",
       "avg_training_score         0\n",
       "is_promoted                0\n",
       "dtype: int64"
      ]
     },
     "execution_count": 11,
     "metadata": {},
     "output_type": "execute_result"
    }
   ],
   "source": [
    "dftrain.isnull().sum()"
   ]
  },
  {
   "cell_type": "code",
   "execution_count": 12,
   "id": "10671e34",
   "metadata": {},
   "outputs": [],
   "source": [
    "dftrain.education = dftrain.education.fillna('Missing')"
   ]
  },
  {
   "cell_type": "code",
   "execution_count": 13,
   "id": "6f575856",
   "metadata": {},
   "outputs": [],
   "source": [
    "# for preprocessin we combine the data frame\n",
    "\n",
    "# Add dependent variable temporraily to test data\n",
    "\n",
    "dftest['is_promoted']='test'"
   ]
  },
  {
   "cell_type": "code",
   "execution_count": 14,
   "id": "e976cf4a",
   "metadata": {},
   "outputs": [],
   "source": [
    "combinedf = pd.concat([dftrain,dftest],axis = 0)"
   ]
  },
  {
   "cell_type": "code",
   "execution_count": 15,
   "id": "82d304ae",
   "metadata": {},
   "outputs": [
    {
     "data": {
      "text/plain": [
       "(78298, 14)"
      ]
     },
     "execution_count": 15,
     "metadata": {},
     "output_type": "execute_result"
    }
   ],
   "source": [
    "combinedf.shape"
   ]
  },
  {
   "cell_type": "code",
   "execution_count": 16,
   "id": "ded329ab",
   "metadata": {},
   "outputs": [
    {
     "data": {
      "text/plain": [
       "Bachelor's          52247\n",
       "Master's & above    21429\n",
       "Missing              2409\n",
       "Below Secondary      1179\n",
       "NaN                  1034\n",
       "Name: education, dtype: int64"
      ]
     },
     "execution_count": 16,
     "metadata": {},
     "output_type": "execute_result"
    }
   ],
   "source": [
    "combinedf.education.value_counts(dropna=False)"
   ]
  },
  {
   "cell_type": "code",
   "execution_count": 17,
   "id": "3848b28b",
   "metadata": {},
   "outputs": [
    {
     "data": {
      "text/plain": [
       "Index(['employee_id', 'department', 'region', 'education', 'gender',\n",
       "       'recruitment_channel', 'no_of_trainings', 'age', 'previous_year_rating',\n",
       "       'length_of_service', 'KPIs_met >80%', 'awards_won?',\n",
       "       'avg_training_score', 'is_promoted'],\n",
       "      dtype='object')"
      ]
     },
     "execution_count": 17,
     "metadata": {},
     "output_type": "execute_result"
    }
   ],
   "source": [
    "combinedf.columns"
   ]
  },
  {
   "cell_type": "code",
   "execution_count": 18,
   "id": "c8e7716e",
   "metadata": {},
   "outputs": [],
   "source": [
    "objcols = combinedf[['department', 'region', 'education', 'gender',\n",
    "       'recruitment_channel', 'previous_year_rating',\n",
    "        'KPIs_met >80%', 'awards_won?',\n",
    "        'is_promoted']]"
   ]
  },
  {
   "cell_type": "code",
   "execution_count": 19,
   "id": "5bddc3da",
   "metadata": {},
   "outputs": [],
   "source": [
    "numcols = combinedf[[ 'no_of_trainings','age','length_of_service','avg_training_score']]"
   ]
  },
  {
   "cell_type": "code",
   "execution_count": 20,
   "id": "42addab7",
   "metadata": {},
   "outputs": [
    {
     "name": "stdout",
     "output_type": "stream",
     "text": [
      "Sales & Marketing    24155\n",
      "Operations           16112\n",
      "Procurement          10158\n",
      "Technology           10149\n",
      "Analytics             7671\n",
      "Finance               3627\n",
      "HR                    3503\n",
      "Legal                 1484\n",
      "R&D                   1439\n",
      "Name: department, dtype: int64\n",
      "region_2     17642\n",
      "region_22     9167\n",
      "region_7      6825\n",
      "region_15     3938\n",
      "region_13     3815\n",
      "region_26     3271\n",
      "region_31     2779\n",
      "region_4      2478\n",
      "region_27     2369\n",
      "region_16     2055\n",
      "region_28     1913\n",
      "region_11     1886\n",
      "region_23     1691\n",
      "region_29     1408\n",
      "region_32     1378\n",
      "region_19     1284\n",
      "region_14     1177\n",
      "region_20     1176\n",
      "region_17     1157\n",
      "region_25     1156\n",
      "region_5      1108\n",
      "region_6       988\n",
      "region_30      930\n",
      "region_8       924\n",
      "region_10      917\n",
      "region_1       848\n",
      "region_24      727\n",
      "region_12      715\n",
      "region_9       600\n",
      "region_21      590\n",
      "region_3       493\n",
      "region_34      447\n",
      "region_33      395\n",
      "region_18       51\n",
      "Name: region, dtype: int64\n",
      "Bachelor's          52247\n",
      "Master's & above    21429\n",
      "Missing              2409\n",
      "Below Secondary      1179\n",
      "NaN                  1034\n",
      "Name: education, dtype: int64\n",
      "m    55092\n",
      "f    23206\n",
      "Name: gender, dtype: int64\n",
      "other       43524\n",
      "sourcing    33181\n",
      "referred     1593\n",
      "Name: recruitment_channel, dtype: int64\n",
      "3.0    26539\n",
      "5.0    16838\n",
      "4.0    14126\n",
      "1.0     8903\n",
      "2.0     5956\n",
      "NaN     5936\n",
      "Name: previous_year_rating, dtype: int64\n",
      "0    50578\n",
      "1    27720\n",
      "Name: KPIs_met >80%, dtype: int64\n",
      "0    76493\n",
      "1     1805\n",
      "Name: awards_won?, dtype: int64\n",
      "0       50140\n",
      "test    23490\n",
      "1        4668\n",
      "Name: is_promoted, dtype: int64\n"
     ]
    }
   ],
   "source": [
    "for i in objcols.columns:\n",
    "    freq = objcols[i].value_counts(dropna=False)\n",
    "    print(freq)"
   ]
  },
  {
   "cell_type": "code",
   "execution_count": 21,
   "id": "9e32512f",
   "metadata": {},
   "outputs": [
    {
     "name": "stderr",
     "output_type": "stream",
     "text": [
      "C:\\Users\\Hp\\AppData\\Local\\Temp\\ipykernel_27556\\4279494531.py:4: SettingWithCopyWarning: \n",
      "A value is trying to be set on a copy of a slice from a DataFrame.\n",
      "Try using .loc[row_indexer,col_indexer] = value instead\n",
      "\n",
      "See the caveats in the documentation: https://pandas.pydata.org/pandas-docs/stable/user_guide/indexing.html#returning-a-view-versus-a-copy\n",
      "  objcols[i] = objcols[i].fillna(objcols[i].value_counts().idxmax())\n",
      "C:\\Users\\Hp\\AppData\\Local\\Temp\\ipykernel_27556\\4279494531.py:4: SettingWithCopyWarning: \n",
      "A value is trying to be set on a copy of a slice from a DataFrame.\n",
      "Try using .loc[row_indexer,col_indexer] = value instead\n",
      "\n",
      "See the caveats in the documentation: https://pandas.pydata.org/pandas-docs/stable/user_guide/indexing.html#returning-a-view-versus-a-copy\n",
      "  objcols[i] = objcols[i].fillna(objcols[i].value_counts().idxmax())\n",
      "C:\\Users\\Hp\\AppData\\Local\\Temp\\ipykernel_27556\\4279494531.py:4: SettingWithCopyWarning: \n",
      "A value is trying to be set on a copy of a slice from a DataFrame.\n",
      "Try using .loc[row_indexer,col_indexer] = value instead\n",
      "\n",
      "See the caveats in the documentation: https://pandas.pydata.org/pandas-docs/stable/user_guide/indexing.html#returning-a-view-versus-a-copy\n",
      "  objcols[i] = objcols[i].fillna(objcols[i].value_counts().idxmax())\n",
      "C:\\Users\\Hp\\AppData\\Local\\Temp\\ipykernel_27556\\4279494531.py:4: SettingWithCopyWarning: \n",
      "A value is trying to be set on a copy of a slice from a DataFrame.\n",
      "Try using .loc[row_indexer,col_indexer] = value instead\n",
      "\n",
      "See the caveats in the documentation: https://pandas.pydata.org/pandas-docs/stable/user_guide/indexing.html#returning-a-view-versus-a-copy\n",
      "  objcols[i] = objcols[i].fillna(objcols[i].value_counts().idxmax())\n",
      "C:\\Users\\Hp\\AppData\\Local\\Temp\\ipykernel_27556\\4279494531.py:4: SettingWithCopyWarning: \n",
      "A value is trying to be set on a copy of a slice from a DataFrame.\n",
      "Try using .loc[row_indexer,col_indexer] = value instead\n",
      "\n",
      "See the caveats in the documentation: https://pandas.pydata.org/pandas-docs/stable/user_guide/indexing.html#returning-a-view-versus-a-copy\n",
      "  objcols[i] = objcols[i].fillna(objcols[i].value_counts().idxmax())\n",
      "C:\\Users\\Hp\\AppData\\Local\\Temp\\ipykernel_27556\\4279494531.py:4: SettingWithCopyWarning: \n",
      "A value is trying to be set on a copy of a slice from a DataFrame.\n",
      "Try using .loc[row_indexer,col_indexer] = value instead\n",
      "\n",
      "See the caveats in the documentation: https://pandas.pydata.org/pandas-docs/stable/user_guide/indexing.html#returning-a-view-versus-a-copy\n",
      "  objcols[i] = objcols[i].fillna(objcols[i].value_counts().idxmax())\n",
      "C:\\Users\\Hp\\AppData\\Local\\Temp\\ipykernel_27556\\4279494531.py:4: SettingWithCopyWarning: \n",
      "A value is trying to be set on a copy of a slice from a DataFrame.\n",
      "Try using .loc[row_indexer,col_indexer] = value instead\n",
      "\n",
      "See the caveats in the documentation: https://pandas.pydata.org/pandas-docs/stable/user_guide/indexing.html#returning-a-view-versus-a-copy\n",
      "  objcols[i] = objcols[i].fillna(objcols[i].value_counts().idxmax())\n",
      "C:\\Users\\Hp\\AppData\\Local\\Temp\\ipykernel_27556\\4279494531.py:4: SettingWithCopyWarning: \n",
      "A value is trying to be set on a copy of a slice from a DataFrame.\n",
      "Try using .loc[row_indexer,col_indexer] = value instead\n",
      "\n",
      "See the caveats in the documentation: https://pandas.pydata.org/pandas-docs/stable/user_guide/indexing.html#returning-a-view-versus-a-copy\n",
      "  objcols[i] = objcols[i].fillna(objcols[i].value_counts().idxmax())\n",
      "C:\\Users\\Hp\\AppData\\Local\\Temp\\ipykernel_27556\\4279494531.py:4: SettingWithCopyWarning: \n",
      "A value is trying to be set on a copy of a slice from a DataFrame.\n",
      "Try using .loc[row_indexer,col_indexer] = value instead\n",
      "\n",
      "See the caveats in the documentation: https://pandas.pydata.org/pandas-docs/stable/user_guide/indexing.html#returning-a-view-versus-a-copy\n",
      "  objcols[i] = objcols[i].fillna(objcols[i].value_counts().idxmax())\n"
     ]
    }
   ],
   "source": [
    "# Most_frequent imputaion\n",
    "\n",
    "for i in objcols.columns:\n",
    "    objcols[i] = objcols[i].fillna(objcols[i].value_counts().idxmax())"
   ]
  },
  {
   "cell_type": "code",
   "execution_count": 22,
   "id": "44913985",
   "metadata": {},
   "outputs": [
    {
     "data": {
      "text/plain": [
       "3.0    32475\n",
       "5.0    16838\n",
       "4.0    14126\n",
       "1.0     8903\n",
       "2.0     5956\n",
       "Name: previous_year_rating, dtype: int64"
      ]
     },
     "execution_count": 22,
     "metadata": {},
     "output_type": "execute_result"
    }
   ],
   "source": [
    "objcols.previous_year_rating.value_counts(dropna=False)"
   ]
  },
  {
   "cell_type": "code",
   "execution_count": 23,
   "id": "d2303d67",
   "metadata": {},
   "outputs": [
    {
     "data": {
      "text/plain": [
       "Bachelor's          53281\n",
       "Master's & above    21429\n",
       "Missing              2409\n",
       "Below Secondary      1179\n",
       "Name: education, dtype: int64"
      ]
     },
     "execution_count": 23,
     "metadata": {},
     "output_type": "execute_result"
    }
   ],
   "source": [
    "objcols.education.value_counts(dropna=False)"
   ]
  },
  {
   "cell_type": "code",
   "execution_count": 24,
   "id": "d6a07814",
   "metadata": {},
   "outputs": [
    {
     "data": {
      "text/plain": [
       "Index(['department', 'region', 'education', 'gender', 'recruitment_channel',\n",
       "       'previous_year_rating', 'KPIs_met >80%', 'awards_won?', 'is_promoted'],\n",
       "      dtype='object')"
      ]
     },
     "execution_count": 24,
     "metadata": {},
     "output_type": "execute_result"
    }
   ],
   "source": [
    "objcols.columns"
   ]
  },
  {
   "cell_type": "code",
   "execution_count": 25,
   "id": "36b83e1a",
   "metadata": {},
   "outputs": [],
   "source": [
    "objcols_dummy = pd.get_dummies(objcols, columns=['department', 'region', 'education', 'gender', 'recruitment_channel',\n",
    "       'previous_year_rating', 'KPIs_met >80%', 'awards_won?'])\n",
    "\n",
    "# Dummy encoding only on independent variable (X's)\n",
    "# LabelEconder only on dependent variable (y)  in classification only."
   ]
  },
  {
   "cell_type": "code",
   "execution_count": 26,
   "id": "384a8f66",
   "metadata": {},
   "outputs": [
    {
     "data": {
      "text/plain": [
       "(78298, 62)"
      ]
     },
     "execution_count": 26,
     "metadata": {},
     "output_type": "execute_result"
    }
   ],
   "source": [
    "objcols_dummy.shape"
   ]
  },
  {
   "cell_type": "code",
   "execution_count": 27,
   "id": "3d08a5b2",
   "metadata": {},
   "outputs": [
    {
     "data": {
      "text/html": [
       "<div>\n",
       "<style scoped>\n",
       "    .dataframe tbody tr th:only-of-type {\n",
       "        vertical-align: middle;\n",
       "    }\n",
       "\n",
       "    .dataframe tbody tr th {\n",
       "        vertical-align: top;\n",
       "    }\n",
       "\n",
       "    .dataframe thead th {\n",
       "        text-align: right;\n",
       "    }\n",
       "</style>\n",
       "<table border=\"1\" class=\"dataframe\">\n",
       "  <thead>\n",
       "    <tr style=\"text-align: right;\">\n",
       "      <th></th>\n",
       "      <th>is_promoted</th>\n",
       "      <th>department_Analytics</th>\n",
       "      <th>department_Finance</th>\n",
       "      <th>department_HR</th>\n",
       "      <th>department_Legal</th>\n",
       "      <th>department_Operations</th>\n",
       "      <th>department_Procurement</th>\n",
       "      <th>department_R&amp;D</th>\n",
       "      <th>department_Sales &amp; Marketing</th>\n",
       "      <th>department_Technology</th>\n",
       "      <th>...</th>\n",
       "      <th>recruitment_channel_sourcing</th>\n",
       "      <th>previous_year_rating_1.0</th>\n",
       "      <th>previous_year_rating_2.0</th>\n",
       "      <th>previous_year_rating_3.0</th>\n",
       "      <th>previous_year_rating_4.0</th>\n",
       "      <th>previous_year_rating_5.0</th>\n",
       "      <th>KPIs_met &gt;80%_0</th>\n",
       "      <th>KPIs_met &gt;80%_1</th>\n",
       "      <th>awards_won?_0</th>\n",
       "      <th>awards_won?_1</th>\n",
       "    </tr>\n",
       "  </thead>\n",
       "  <tbody>\n",
       "    <tr>\n",
       "      <th>0</th>\n",
       "      <td>0</td>\n",
       "      <td>0</td>\n",
       "      <td>0</td>\n",
       "      <td>0</td>\n",
       "      <td>0</td>\n",
       "      <td>0</td>\n",
       "      <td>0</td>\n",
       "      <td>0</td>\n",
       "      <td>1</td>\n",
       "      <td>0</td>\n",
       "      <td>...</td>\n",
       "      <td>1</td>\n",
       "      <td>0</td>\n",
       "      <td>0</td>\n",
       "      <td>0</td>\n",
       "      <td>0</td>\n",
       "      <td>1</td>\n",
       "      <td>0</td>\n",
       "      <td>1</td>\n",
       "      <td>1</td>\n",
       "      <td>0</td>\n",
       "    </tr>\n",
       "    <tr>\n",
       "      <th>1</th>\n",
       "      <td>0</td>\n",
       "      <td>0</td>\n",
       "      <td>0</td>\n",
       "      <td>0</td>\n",
       "      <td>0</td>\n",
       "      <td>1</td>\n",
       "      <td>0</td>\n",
       "      <td>0</td>\n",
       "      <td>0</td>\n",
       "      <td>0</td>\n",
       "      <td>...</td>\n",
       "      <td>0</td>\n",
       "      <td>0</td>\n",
       "      <td>0</td>\n",
       "      <td>0</td>\n",
       "      <td>0</td>\n",
       "      <td>1</td>\n",
       "      <td>1</td>\n",
       "      <td>0</td>\n",
       "      <td>1</td>\n",
       "      <td>0</td>\n",
       "    </tr>\n",
       "    <tr>\n",
       "      <th>2</th>\n",
       "      <td>0</td>\n",
       "      <td>0</td>\n",
       "      <td>0</td>\n",
       "      <td>0</td>\n",
       "      <td>0</td>\n",
       "      <td>0</td>\n",
       "      <td>0</td>\n",
       "      <td>0</td>\n",
       "      <td>1</td>\n",
       "      <td>0</td>\n",
       "      <td>...</td>\n",
       "      <td>1</td>\n",
       "      <td>0</td>\n",
       "      <td>0</td>\n",
       "      <td>1</td>\n",
       "      <td>0</td>\n",
       "      <td>0</td>\n",
       "      <td>1</td>\n",
       "      <td>0</td>\n",
       "      <td>1</td>\n",
       "      <td>0</td>\n",
       "    </tr>\n",
       "    <tr>\n",
       "      <th>3</th>\n",
       "      <td>0</td>\n",
       "      <td>0</td>\n",
       "      <td>0</td>\n",
       "      <td>0</td>\n",
       "      <td>0</td>\n",
       "      <td>0</td>\n",
       "      <td>0</td>\n",
       "      <td>0</td>\n",
       "      <td>1</td>\n",
       "      <td>0</td>\n",
       "      <td>...</td>\n",
       "      <td>0</td>\n",
       "      <td>1</td>\n",
       "      <td>0</td>\n",
       "      <td>0</td>\n",
       "      <td>0</td>\n",
       "      <td>0</td>\n",
       "      <td>1</td>\n",
       "      <td>0</td>\n",
       "      <td>1</td>\n",
       "      <td>0</td>\n",
       "    </tr>\n",
       "    <tr>\n",
       "      <th>4</th>\n",
       "      <td>0</td>\n",
       "      <td>0</td>\n",
       "      <td>0</td>\n",
       "      <td>0</td>\n",
       "      <td>0</td>\n",
       "      <td>0</td>\n",
       "      <td>0</td>\n",
       "      <td>0</td>\n",
       "      <td>0</td>\n",
       "      <td>1</td>\n",
       "      <td>...</td>\n",
       "      <td>0</td>\n",
       "      <td>0</td>\n",
       "      <td>0</td>\n",
       "      <td>1</td>\n",
       "      <td>0</td>\n",
       "      <td>0</td>\n",
       "      <td>1</td>\n",
       "      <td>0</td>\n",
       "      <td>1</td>\n",
       "      <td>0</td>\n",
       "    </tr>\n",
       "  </tbody>\n",
       "</table>\n",
       "<p>5 rows × 62 columns</p>\n",
       "</div>"
      ],
      "text/plain": [
       "  is_promoted  department_Analytics  department_Finance  department_HR  \\\n",
       "0           0                     0                   0              0   \n",
       "1           0                     0                   0              0   \n",
       "2           0                     0                   0              0   \n",
       "3           0                     0                   0              0   \n",
       "4           0                     0                   0              0   \n",
       "\n",
       "   department_Legal  department_Operations  department_Procurement  \\\n",
       "0                 0                      0                       0   \n",
       "1                 0                      1                       0   \n",
       "2                 0                      0                       0   \n",
       "3                 0                      0                       0   \n",
       "4                 0                      0                       0   \n",
       "\n",
       "   department_R&D  department_Sales & Marketing  department_Technology  ...  \\\n",
       "0               0                             1                      0  ...   \n",
       "1               0                             0                      0  ...   \n",
       "2               0                             1                      0  ...   \n",
       "3               0                             1                      0  ...   \n",
       "4               0                             0                      1  ...   \n",
       "\n",
       "   recruitment_channel_sourcing  previous_year_rating_1.0  \\\n",
       "0                             1                         0   \n",
       "1                             0                         0   \n",
       "2                             1                         0   \n",
       "3                             0                         1   \n",
       "4                             0                         0   \n",
       "\n",
       "   previous_year_rating_2.0  previous_year_rating_3.0  \\\n",
       "0                         0                         0   \n",
       "1                         0                         0   \n",
       "2                         0                         1   \n",
       "3                         0                         0   \n",
       "4                         0                         1   \n",
       "\n",
       "   previous_year_rating_4.0  previous_year_rating_5.0  KPIs_met >80%_0  \\\n",
       "0                         0                         1                0   \n",
       "1                         0                         1                1   \n",
       "2                         0                         0                1   \n",
       "3                         0                         0                1   \n",
       "4                         0                         0                1   \n",
       "\n",
       "   KPIs_met >80%_1  awards_won?_0  awards_won?_1  \n",
       "0                1              1              0  \n",
       "1                0              1              0  \n",
       "2                0              1              0  \n",
       "3                0              1              0  \n",
       "4                0              1              0  \n",
       "\n",
       "[5 rows x 62 columns]"
      ]
     },
     "execution_count": 27,
     "metadata": {},
     "output_type": "execute_result"
    }
   ],
   "source": [
    "objcols_dummy.head()"
   ]
  },
  {
   "cell_type": "code",
   "execution_count": 28,
   "id": "e62754b5",
   "metadata": {},
   "outputs": [],
   "source": [
    "# Combine both dataframes\n",
    "\n",
    "combinedf_clean = pd.concat([numcols,objcols_dummy], axis = 1)"
   ]
  },
  {
   "cell_type": "code",
   "execution_count": 29,
   "id": "8a6ed788",
   "metadata": {},
   "outputs": [],
   "source": [
    "dftrain = combinedf_clean[combinedf_clean.is_promoted!='test']\n",
    "dftest  = combinedf_clean[combinedf_clean.is_promoted=='test']"
   ]
  },
  {
   "cell_type": "code",
   "execution_count": 30,
   "id": "879ea1ea",
   "metadata": {},
   "outputs": [],
   "source": [
    "dftest_df = dftest.drop('is_promoted',axis = 1)"
   ]
  },
  {
   "cell_type": "code",
   "execution_count": 31,
   "id": "912783f4",
   "metadata": {},
   "outputs": [
    {
     "data": {
      "text/html": [
       "<div>\n",
       "<style scoped>\n",
       "    .dataframe tbody tr th:only-of-type {\n",
       "        vertical-align: middle;\n",
       "    }\n",
       "\n",
       "    .dataframe tbody tr th {\n",
       "        vertical-align: top;\n",
       "    }\n",
       "\n",
       "    .dataframe thead th {\n",
       "        text-align: right;\n",
       "    }\n",
       "</style>\n",
       "<table border=\"1\" class=\"dataframe\">\n",
       "  <thead>\n",
       "    <tr style=\"text-align: right;\">\n",
       "      <th></th>\n",
       "      <th>no_of_trainings</th>\n",
       "      <th>age</th>\n",
       "      <th>length_of_service</th>\n",
       "      <th>avg_training_score</th>\n",
       "      <th>is_promoted</th>\n",
       "      <th>department_Analytics</th>\n",
       "      <th>department_Finance</th>\n",
       "      <th>department_HR</th>\n",
       "      <th>department_Legal</th>\n",
       "      <th>department_Operations</th>\n",
       "      <th>...</th>\n",
       "      <th>recruitment_channel_sourcing</th>\n",
       "      <th>previous_year_rating_1.0</th>\n",
       "      <th>previous_year_rating_2.0</th>\n",
       "      <th>previous_year_rating_3.0</th>\n",
       "      <th>previous_year_rating_4.0</th>\n",
       "      <th>previous_year_rating_5.0</th>\n",
       "      <th>KPIs_met &gt;80%_0</th>\n",
       "      <th>KPIs_met &gt;80%_1</th>\n",
       "      <th>awards_won?_0</th>\n",
       "      <th>awards_won?_1</th>\n",
       "    </tr>\n",
       "  </thead>\n",
       "  <tbody>\n",
       "    <tr>\n",
       "      <th>0</th>\n",
       "      <td>1</td>\n",
       "      <td>35</td>\n",
       "      <td>8</td>\n",
       "      <td>49</td>\n",
       "      <td>0</td>\n",
       "      <td>0</td>\n",
       "      <td>0</td>\n",
       "      <td>0</td>\n",
       "      <td>0</td>\n",
       "      <td>0</td>\n",
       "      <td>...</td>\n",
       "      <td>1</td>\n",
       "      <td>0</td>\n",
       "      <td>0</td>\n",
       "      <td>0</td>\n",
       "      <td>0</td>\n",
       "      <td>1</td>\n",
       "      <td>0</td>\n",
       "      <td>1</td>\n",
       "      <td>1</td>\n",
       "      <td>0</td>\n",
       "    </tr>\n",
       "    <tr>\n",
       "      <th>1</th>\n",
       "      <td>1</td>\n",
       "      <td>30</td>\n",
       "      <td>4</td>\n",
       "      <td>60</td>\n",
       "      <td>0</td>\n",
       "      <td>0</td>\n",
       "      <td>0</td>\n",
       "      <td>0</td>\n",
       "      <td>0</td>\n",
       "      <td>1</td>\n",
       "      <td>...</td>\n",
       "      <td>0</td>\n",
       "      <td>0</td>\n",
       "      <td>0</td>\n",
       "      <td>0</td>\n",
       "      <td>0</td>\n",
       "      <td>1</td>\n",
       "      <td>1</td>\n",
       "      <td>0</td>\n",
       "      <td>1</td>\n",
       "      <td>0</td>\n",
       "    </tr>\n",
       "    <tr>\n",
       "      <th>2</th>\n",
       "      <td>1</td>\n",
       "      <td>34</td>\n",
       "      <td>7</td>\n",
       "      <td>50</td>\n",
       "      <td>0</td>\n",
       "      <td>0</td>\n",
       "      <td>0</td>\n",
       "      <td>0</td>\n",
       "      <td>0</td>\n",
       "      <td>0</td>\n",
       "      <td>...</td>\n",
       "      <td>1</td>\n",
       "      <td>0</td>\n",
       "      <td>0</td>\n",
       "      <td>1</td>\n",
       "      <td>0</td>\n",
       "      <td>0</td>\n",
       "      <td>1</td>\n",
       "      <td>0</td>\n",
       "      <td>1</td>\n",
       "      <td>0</td>\n",
       "    </tr>\n",
       "    <tr>\n",
       "      <th>3</th>\n",
       "      <td>2</td>\n",
       "      <td>39</td>\n",
       "      <td>10</td>\n",
       "      <td>50</td>\n",
       "      <td>0</td>\n",
       "      <td>0</td>\n",
       "      <td>0</td>\n",
       "      <td>0</td>\n",
       "      <td>0</td>\n",
       "      <td>0</td>\n",
       "      <td>...</td>\n",
       "      <td>0</td>\n",
       "      <td>1</td>\n",
       "      <td>0</td>\n",
       "      <td>0</td>\n",
       "      <td>0</td>\n",
       "      <td>0</td>\n",
       "      <td>1</td>\n",
       "      <td>0</td>\n",
       "      <td>1</td>\n",
       "      <td>0</td>\n",
       "    </tr>\n",
       "    <tr>\n",
       "      <th>4</th>\n",
       "      <td>1</td>\n",
       "      <td>45</td>\n",
       "      <td>2</td>\n",
       "      <td>73</td>\n",
       "      <td>0</td>\n",
       "      <td>0</td>\n",
       "      <td>0</td>\n",
       "      <td>0</td>\n",
       "      <td>0</td>\n",
       "      <td>0</td>\n",
       "      <td>...</td>\n",
       "      <td>0</td>\n",
       "      <td>0</td>\n",
       "      <td>0</td>\n",
       "      <td>1</td>\n",
       "      <td>0</td>\n",
       "      <td>0</td>\n",
       "      <td>1</td>\n",
       "      <td>0</td>\n",
       "      <td>1</td>\n",
       "      <td>0</td>\n",
       "    </tr>\n",
       "  </tbody>\n",
       "</table>\n",
       "<p>5 rows × 66 columns</p>\n",
       "</div>"
      ],
      "text/plain": [
       "   no_of_trainings  age  length_of_service  avg_training_score is_promoted  \\\n",
       "0                1   35                  8                  49           0   \n",
       "1                1   30                  4                  60           0   \n",
       "2                1   34                  7                  50           0   \n",
       "3                2   39                 10                  50           0   \n",
       "4                1   45                  2                  73           0   \n",
       "\n",
       "   department_Analytics  department_Finance  department_HR  department_Legal  \\\n",
       "0                     0                   0              0                 0   \n",
       "1                     0                   0              0                 0   \n",
       "2                     0                   0              0                 0   \n",
       "3                     0                   0              0                 0   \n",
       "4                     0                   0              0                 0   \n",
       "\n",
       "   department_Operations  ...  recruitment_channel_sourcing  \\\n",
       "0                      0  ...                             1   \n",
       "1                      1  ...                             0   \n",
       "2                      0  ...                             1   \n",
       "3                      0  ...                             0   \n",
       "4                      0  ...                             0   \n",
       "\n",
       "   previous_year_rating_1.0  previous_year_rating_2.0  \\\n",
       "0                         0                         0   \n",
       "1                         0                         0   \n",
       "2                         0                         0   \n",
       "3                         1                         0   \n",
       "4                         0                         0   \n",
       "\n",
       "   previous_year_rating_3.0  previous_year_rating_4.0  \\\n",
       "0                         0                         0   \n",
       "1                         0                         0   \n",
       "2                         1                         0   \n",
       "3                         0                         0   \n",
       "4                         1                         0   \n",
       "\n",
       "   previous_year_rating_5.0  KPIs_met >80%_0  KPIs_met >80%_1  awards_won?_0  \\\n",
       "0                         1                0                1              1   \n",
       "1                         1                1                0              1   \n",
       "2                         0                1                0              1   \n",
       "3                         0                1                0              1   \n",
       "4                         0                1                0              1   \n",
       "\n",
       "   awards_won?_1  \n",
       "0              0  \n",
       "1              0  \n",
       "2              0  \n",
       "3              0  \n",
       "4              0  \n",
       "\n",
       "[5 rows x 66 columns]"
      ]
     },
     "execution_count": 31,
     "metadata": {},
     "output_type": "execute_result"
    }
   ],
   "source": [
    "dftrain.head()"
   ]
  },
  {
   "cell_type": "code",
   "execution_count": 32,
   "id": "04554afe",
   "metadata": {},
   "outputs": [],
   "source": [
    "X = dftrain[['no_of_trainings','age','length_of_service','avg_training_score']]\n",
    "y = dftrain.is_promoted"
   ]
  },
  {
   "cell_type": "code",
   "execution_count": 33,
   "id": "f1b5f43e",
   "metadata": {},
   "outputs": [],
   "source": [
    "from sklearn.preprocessing import LabelEncoder"
   ]
  },
  {
   "cell_type": "code",
   "execution_count": 34,
   "id": "9db9b220",
   "metadata": {},
   "outputs": [],
   "source": [
    "y = LabelEncoder().fit_transform(y)"
   ]
  },
  {
   "cell_type": "code",
   "execution_count": 35,
   "id": "1c0c1093",
   "metadata": {},
   "outputs": [],
   "source": [
    "from sklearn.linear_model import LogisticRegression"
   ]
  },
  {
   "cell_type": "code",
   "execution_count": 36,
   "id": "4f91bc1d",
   "metadata": {},
   "outputs": [],
   "source": [
    "logit = LogisticRegression()"
   ]
  },
  {
   "cell_type": "code",
   "execution_count": 37,
   "id": "9d79585e",
   "metadata": {},
   "outputs": [],
   "source": [
    "logitmodel = logit.fit(X,y)"
   ]
  },
  {
   "cell_type": "code",
   "execution_count": 38,
   "id": "b909ee96",
   "metadata": {},
   "outputs": [
    {
     "data": {
      "text/plain": [
       "0.9148299518318493"
      ]
     },
     "execution_count": 38,
     "metadata": {},
     "output_type": "execute_result"
    }
   ],
   "source": [
    "logitmodel.score(X,y)"
   ]
  },
  {
   "cell_type": "code",
   "execution_count": 39,
   "id": "6b959b77",
   "metadata": {},
   "outputs": [
    {
     "data": {
      "text/plain": [
       "array([-5.06231887])"
      ]
     },
     "execution_count": 39,
     "metadata": {},
     "output_type": "execute_result"
    }
   ],
   "source": [
    "logitmodel.intercept_"
   ]
  },
  {
   "cell_type": "code",
   "execution_count": 40,
   "id": "1596d83b",
   "metadata": {},
   "outputs": [
    {
     "data": {
      "text/plain": [
       "array([[-0.24438618, -0.00532716,  0.00271773,  0.04716254]])"
      ]
     },
     "execution_count": 40,
     "metadata": {},
     "output_type": "execute_result"
    }
   ],
   "source": [
    "logitmodel.coef_"
   ]
  },
  {
   "cell_type": "code",
   "execution_count": 41,
   "id": "addc52c0",
   "metadata": {},
   "outputs": [
    {
     "data": {
      "text/html": [
       "<div>\n",
       "<style scoped>\n",
       "    .dataframe tbody tr th:only-of-type {\n",
       "        vertical-align: middle;\n",
       "    }\n",
       "\n",
       "    .dataframe tbody tr th {\n",
       "        vertical-align: top;\n",
       "    }\n",
       "\n",
       "    .dataframe thead th {\n",
       "        text-align: right;\n",
       "    }\n",
       "</style>\n",
       "<table border=\"1\" class=\"dataframe\">\n",
       "  <thead>\n",
       "    <tr style=\"text-align: right;\">\n",
       "      <th></th>\n",
       "      <th>no_of_trainings</th>\n",
       "      <th>age</th>\n",
       "      <th>length_of_service</th>\n",
       "      <th>avg_training_score</th>\n",
       "    </tr>\n",
       "  </thead>\n",
       "  <tbody>\n",
       "    <tr>\n",
       "      <th>0</th>\n",
       "      <td>-0.244386</td>\n",
       "      <td>-0.005327</td>\n",
       "      <td>0.002718</td>\n",
       "      <td>0.047163</td>\n",
       "    </tr>\n",
       "  </tbody>\n",
       "</table>\n",
       "</div>"
      ],
      "text/plain": [
       "   no_of_trainings       age  length_of_service  avg_training_score\n",
       "0        -0.244386 -0.005327           0.002718            0.047163"
      ]
     },
     "execution_count": 41,
     "metadata": {},
     "output_type": "execute_result"
    }
   ],
   "source": [
    "pd.DataFrame(logitmodel.coef_, columns=X.columns)"
   ]
  },
  {
   "cell_type": "code",
   "execution_count": 42,
   "id": "7e2fc090",
   "metadata": {},
   "outputs": [],
   "source": [
    "logitperdict = logitmodel.predict(X)"
   ]
  },
  {
   "cell_type": "code",
   "execution_count": 43,
   "id": "238beff4",
   "metadata": {},
   "outputs": [
    {
     "data": {
      "text/html": [
       "<div>\n",
       "<style scoped>\n",
       "    .dataframe tbody tr th:only-of-type {\n",
       "        vertical-align: middle;\n",
       "    }\n",
       "\n",
       "    .dataframe tbody tr th {\n",
       "        vertical-align: top;\n",
       "    }\n",
       "\n",
       "    .dataframe thead th {\n",
       "        text-align: right;\n",
       "    }\n",
       "</style>\n",
       "<table border=\"1\" class=\"dataframe\">\n",
       "  <thead>\n",
       "    <tr style=\"text-align: right;\">\n",
       "      <th>col_0</th>\n",
       "      <th>0</th>\n",
       "    </tr>\n",
       "    <tr>\n",
       "      <th>row_0</th>\n",
       "      <th></th>\n",
       "    </tr>\n",
       "  </thead>\n",
       "  <tbody>\n",
       "    <tr>\n",
       "      <th>0</th>\n",
       "      <td>50140</td>\n",
       "    </tr>\n",
       "    <tr>\n",
       "      <th>1</th>\n",
       "      <td>4668</td>\n",
       "    </tr>\n",
       "  </tbody>\n",
       "</table>\n",
       "</div>"
      ],
      "text/plain": [
       "col_0      0\n",
       "row_0       \n",
       "0      50140\n",
       "1       4668"
      ]
     },
     "execution_count": 43,
     "metadata": {},
     "output_type": "execute_result"
    }
   ],
   "source": [
    "pd.crosstab(y,logitperdict) # Confusion Matrix"
   ]
  },
  {
   "cell_type": "code",
   "execution_count": 44,
   "id": "47e4a9cb",
   "metadata": {},
   "outputs": [
    {
     "data": {
      "text/plain": [
       "0.9148299518318493"
      ]
     },
     "execution_count": 44,
     "metadata": {},
     "output_type": "execute_result"
    }
   ],
   "source": [
    "50140/(50140+4668)"
   ]
  },
  {
   "cell_type": "code",
   "execution_count": 45,
   "id": "42690473",
   "metadata": {},
   "outputs": [],
   "source": [
    "X = dftrain.drop('is_promoted', axis = 1)"
   ]
  },
  {
   "cell_type": "code",
   "execution_count": 46,
   "id": "4ca67459",
   "metadata": {},
   "outputs": [],
   "source": [
    "logit = LogisticRegression(max_iter = 2000)\n",
    "\n",
    "# Convergence Warning - All Coefficient in equation are not calculated\n",
    "# increase iterations or sclale indepent variables i soultion"
   ]
  },
  {
   "cell_type": "code",
   "execution_count": 47,
   "id": "604b7e0d",
   "metadata": {},
   "outputs": [],
   "source": [
    "logitmodel = logit.fit(X,y)"
   ]
  },
  {
   "cell_type": "code",
   "execution_count": 48,
   "id": "bdf9306c",
   "metadata": {},
   "outputs": [
    {
     "data": {
      "text/plain": [
       "0.9318165231353087"
      ]
     },
     "execution_count": 48,
     "metadata": {},
     "output_type": "execute_result"
    }
   ],
   "source": [
    "logitmodel.score(X,y) # Accuracy from confusion matrix"
   ]
  },
  {
   "cell_type": "code",
   "execution_count": 49,
   "id": "1c78817d",
   "metadata": {},
   "outputs": [],
   "source": [
    "logitpredict = logitmodel.predict(X)"
   ]
  },
  {
   "cell_type": "code",
   "execution_count": 50,
   "id": "58853c78",
   "metadata": {},
   "outputs": [
    {
     "data": {
      "text/html": [
       "<div>\n",
       "<style scoped>\n",
       "    .dataframe tbody tr th:only-of-type {\n",
       "        vertical-align: middle;\n",
       "    }\n",
       "\n",
       "    .dataframe tbody tr th {\n",
       "        vertical-align: top;\n",
       "    }\n",
       "\n",
       "    .dataframe thead th {\n",
       "        text-align: right;\n",
       "    }\n",
       "</style>\n",
       "<table border=\"1\" class=\"dataframe\">\n",
       "  <thead>\n",
       "    <tr style=\"text-align: right;\">\n",
       "      <th>col_0</th>\n",
       "      <th>0</th>\n",
       "      <th>1</th>\n",
       "    </tr>\n",
       "    <tr>\n",
       "      <th>row_0</th>\n",
       "      <th></th>\n",
       "      <th></th>\n",
       "    </tr>\n",
       "  </thead>\n",
       "  <tbody>\n",
       "    <tr>\n",
       "      <th>0</th>\n",
       "      <td>49837</td>\n",
       "      <td>303</td>\n",
       "    </tr>\n",
       "    <tr>\n",
       "      <th>1</th>\n",
       "      <td>3434</td>\n",
       "      <td>1234</td>\n",
       "    </tr>\n",
       "  </tbody>\n",
       "</table>\n",
       "</div>"
      ],
      "text/plain": [
       "col_0      0     1\n",
       "row_0             \n",
       "0      49837   303\n",
       "1       3434  1234"
      ]
     },
     "execution_count": 50,
     "metadata": {},
     "output_type": "execute_result"
    }
   ],
   "source": [
    "pd.crosstab(y,logitpredict)"
   ]
  },
  {
   "cell_type": "code",
   "execution_count": 51,
   "id": "74039caa",
   "metadata": {},
   "outputs": [
    {
     "data": {
      "text/plain": [
       "0.9317070500656839"
      ]
     },
     "execution_count": 51,
     "metadata": {},
     "output_type": "execute_result"
    }
   ],
   "source": [
    "(49835+1230)/(49835+1230+3438+305)"
   ]
  },
  {
   "cell_type": "code",
   "execution_count": 52,
   "id": "f9c341b0",
   "metadata": {},
   "outputs": [
    {
     "data": {
      "text/plain": [
       "0.935464494209074"
      ]
     },
     "execution_count": 52,
     "metadata": {},
     "output_type": "execute_result"
    }
   ],
   "source": [
    "49835/(49835+3438) # Recall"
   ]
  },
  {
   "cell_type": "code",
   "execution_count": 53,
   "id": "449b180b",
   "metadata": {},
   "outputs": [],
   "source": [
    "TN = 49835\n",
    "FP = 305\n",
    "FN = 3438\n",
    "TP = 1230\n",
    "\n",
    "# is_promoted - 0 is No - Negative\n",
    "# is_promoted - 1 is Yes - Positive"
   ]
  },
  {
   "cell_type": "code",
   "execution_count": 54,
   "id": "b8fd2160",
   "metadata": {},
   "outputs": [],
   "source": [
    "recall = TP/(TP+FN)"
   ]
  },
  {
   "cell_type": "code",
   "execution_count": 55,
   "id": "437c9aef",
   "metadata": {},
   "outputs": [
    {
     "data": {
      "text/plain": [
       "0.2634961439588689"
      ]
     },
     "execution_count": 55,
     "metadata": {},
     "output_type": "execute_result"
    }
   ],
   "source": [
    "recall"
   ]
  },
  {
   "cell_type": "code",
   "execution_count": 56,
   "id": "06799dd5",
   "metadata": {},
   "outputs": [],
   "source": [
    "precession = TP/(TP+FP) # Precesion"
   ]
  },
  {
   "cell_type": "code",
   "execution_count": 57,
   "id": "78dc2fb7",
   "metadata": {},
   "outputs": [
    {
     "data": {
      "text/plain": [
       "0.39658229888763497"
      ]
     },
     "execution_count": 57,
     "metadata": {},
     "output_type": "execute_result"
    }
   ],
   "source": [
    "2 * ((precession*recall))/((precession+recall)) # f1 Score\n"
   ]
  },
  {
   "cell_type": "code",
   "execution_count": 58,
   "id": "04fccf25",
   "metadata": {},
   "outputs": [
    {
     "data": {
      "text/plain": [
       "0.8013029315960912"
      ]
     },
     "execution_count": 58,
     "metadata": {},
     "output_type": "execute_result"
    }
   ],
   "source": [
    "precession"
   ]
  },
  {
   "cell_type": "code",
   "execution_count": 59,
   "id": "ea6ea265",
   "metadata": {},
   "outputs": [
    {
     "data": {
      "text/plain": [
       "0.2634961439588689"
      ]
     },
     "execution_count": 59,
     "metadata": {},
     "output_type": "execute_result"
    }
   ],
   "source": [
    "recall"
   ]
  },
  {
   "cell_type": "code",
   "execution_count": 60,
   "id": "afcabbd2",
   "metadata": {},
   "outputs": [],
   "source": [
    "from sklearn.metrics import classification_report"
   ]
  },
  {
   "cell_type": "code",
   "execution_count": 61,
   "id": "76c44851",
   "metadata": {},
   "outputs": [
    {
     "name": "stdout",
     "output_type": "stream",
     "text": [
      "              precision    recall  f1-score   support\n",
      "\n",
      "           0       0.94      0.99      0.96     50140\n",
      "           1       0.80      0.26      0.40      4668\n",
      "\n",
      "    accuracy                           0.93     54808\n",
      "   macro avg       0.87      0.63      0.68     54808\n",
      "weighted avg       0.92      0.93      0.92     54808\n",
      "\n"
     ]
    }
   ],
   "source": [
    "print(classification_report(y,logitpredict))\n",
    "\n",
    "# Imbalance Data or Imbalance in Dependent Variable Classes\n",
    "# 0 - 50140 (Majority Class)\n",
    "# 1 -  4668 (Minority Class)"
   ]
  },
  {
   "cell_type": "code",
   "execution_count": 81,
   "id": "71274014",
   "metadata": {},
   "outputs": [],
   "source": [
    "from sklearn.ensemble import RandomForestClassifier"
   ]
  },
  {
   "cell_type": "code",
   "execution_count": 82,
   "id": "2980dc3b",
   "metadata": {},
   "outputs": [],
   "source": [
    "rf = RandomForestClassifier()"
   ]
  },
  {
   "cell_type": "code",
   "execution_count": 83,
   "id": "e9ea320a",
   "metadata": {},
   "outputs": [],
   "source": [
    "rfmodel = rf.fit(X,y)"
   ]
  },
  {
   "cell_type": "code",
   "execution_count": 84,
   "id": "ff0c2735",
   "metadata": {},
   "outputs": [
    {
     "data": {
      "text/plain": [
       "0.9997810538607502"
      ]
     },
     "execution_count": 84,
     "metadata": {},
     "output_type": "execute_result"
    }
   ],
   "source": [
    "rfmodel.score(X,y)"
   ]
  },
  {
   "cell_type": "code",
   "execution_count": 85,
   "id": "421dc24f",
   "metadata": {},
   "outputs": [],
   "source": [
    "from sklearn.model_selection import cross_val_score"
   ]
  },
  {
   "cell_type": "code",
   "execution_count": 86,
   "id": "71f8b1f7",
   "metadata": {},
   "outputs": [
    {
     "data": {
      "text/plain": [
       "array([0.93431856, 0.93130816, 0.93276774, 0.93276161, 0.93121066])"
      ]
     },
     "execution_count": 86,
     "metadata": {},
     "output_type": "execute_result"
    }
   ],
   "source": [
    "cross_val_score(rf,X,y)"
   ]
  },
  {
   "cell_type": "code",
   "execution_count": 87,
   "id": "84b7514c",
   "metadata": {},
   "outputs": [
    {
     "data": {
      "text/plain": [
       "0.9324733459999999"
      ]
     },
     "execution_count": 87,
     "metadata": {},
     "output_type": "execute_result"
    }
   ],
   "source": [
    "np.mean([0.93431856, 0.93130816, 0.93276774, 0.93276161, 0.93121066 ])"
   ]
  },
  {
   "cell_type": "code",
   "execution_count": 88,
   "id": "4915b544",
   "metadata": {},
   "outputs": [],
   "source": [
    "RFpredict = rfmodel.predict(X)"
   ]
  },
  {
   "cell_type": "code",
   "execution_count": 89,
   "id": "460544d6",
   "metadata": {},
   "outputs": [],
   "source": [
    "RFresid = y - RFpredict"
   ]
  },
  {
   "cell_type": "code",
   "execution_count": 90,
   "id": "b957146f",
   "metadata": {},
   "outputs": [
    {
     "data": {
      "text/plain": [
       "0.014796828688936848"
      ]
     },
     "execution_count": 90,
     "metadata": {},
     "output_type": "execute_result"
    }
   ],
   "source": [
    "np.sqrt(np.mean(RFresid**2))"
   ]
  },
  {
   "cell_type": "code",
   "execution_count": 91,
   "id": "d5cdb097",
   "metadata": {},
   "outputs": [],
   "source": [
    "RF_test_pred = rfmodel.predict(dftest_df)"
   ]
  },
  {
   "cell_type": "code",
   "execution_count": 92,
   "id": "5ebdba71",
   "metadata": {},
   "outputs": [],
   "source": [
    "pd.DataFrame(RF_test_pred).to_csv('RF1.csv')"
   ]
  },
  {
   "cell_type": "code",
   "execution_count": null,
   "id": "effa63f0",
   "metadata": {},
   "outputs": [],
   "source": []
  }
 ],
 "metadata": {
  "kernelspec": {
   "display_name": "Python 3 (ipykernel)",
   "language": "python",
   "name": "python3"
  },
  "language_info": {
   "codemirror_mode": {
    "name": "ipython",
    "version": 3
   },
   "file_extension": ".py",
   "mimetype": "text/x-python",
   "name": "python",
   "nbconvert_exporter": "python",
   "pygments_lexer": "ipython3",
   "version": "3.8.16"
  }
 },
 "nbformat": 4,
 "nbformat_minor": 5
}
